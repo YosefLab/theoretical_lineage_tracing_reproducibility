{
 "cells": [
  {
   "cell_type": "markdown",
   "metadata": {},
   "source": [
    "This notebook stitches together text files that are the outputs of parallelized runs in the results folder."
   ]
  },
  {
   "cell_type": "code",
   "execution_count": 4,
   "metadata": {},
   "outputs": [],
   "source": [
    "import os\n",
    "import pandas as pd"
   ]
  },
  {
   "cell_type": "code",
   "execution_count": 2,
   "metadata": {},
   "outputs": [],
   "source": [
    "folder = \"../results/vary_lambda_q/\""
   ]
  },
  {
   "cell_type": "code",
   "execution_count": 3,
   "metadata": {},
   "outputs": [],
   "source": [
    "regimes = [\"percolation_d_triplets\", \n",
    "           \"percolation_d_triplets_20\", \n",
    "           \"percolation_rf\", \n",
    "           \"shared_mutation_rf\", \n",
    "           \"percolation_triplets\",\n",
    "           \"shared_mutation_triplets\"]\n",
    "\n",
    "topology = \"complete_binary\"\n",
    "\n",
    "for regime in regimes:\n",
    "    df = pd.DataFrame()\n",
    "    for i in range(1, 109):\n",
    "        temp_df = pd.read_csv(f\"{folder}{topology}/{regime}/{i}.txt\", sep= \"\\t\", header = None)\n",
    "        df = pd.concat([df, temp_df])\n",
    "    df.to_csv(f\"{folder}{topology}/{regime}.txt\", sep = \"\\t\", header = False, index = False)"
   ]
  },
  {
   "cell_type": "code",
   "execution_count": 4,
   "metadata": {},
   "outputs": [],
   "source": [
    "regimes = [\"percolation_d_triplets\", \n",
    "           \"percolation_d_triplets_20\", \n",
    "           \"percolation_rf\", \n",
    "           \"shared_mutation_rf\", \n",
    "           \"percolation_triplets\",\n",
    "           \"shared_mutation_triplets\"]\n",
    "\n",
    "topology = \"exponential_plus_c\"\n",
    "\n",
    "for regime in regimes:\n",
    "    df = pd.DataFrame()\n",
    "    for i in range(1, 109):\n",
    "        temp_df = pd.read_csv(f\"{folder}{topology}/{regime}/{i}.txt\", sep= \"\\t\", header = None)\n",
    "        df = pd.concat([df, temp_df])\n",
    "    df.to_csv(f\"{folder}{topology}/{regime}.txt\", sep = \"\\t\", header = False, index = False)"
   ]
  },
  {
   "cell_type": "code",
   "execution_count": 7,
   "metadata": {},
   "outputs": [],
   "source": [
    "regimes = [\"percolation_rf\", \n",
    "           \"percolation_triplets\"]\n",
    "\n",
    "topology = \"missing\"\n",
    "\n",
    "for regime in regimes:\n",
    "    df = pd.DataFrame()\n",
    "    for i in range(1, 97):\n",
    "        temp_df = pd.read_csv(f\"{folder}{topology}/{regime}/{i}.txt\", sep= \"\\t\", header = None)\n",
    "        df = pd.concat([df, temp_df])\n",
    "    df.to_csv(f\"{folder}{topology}/{regime}.txt\", sep = \"\\t\", header = False, index = False)"
   ]
  },
  {
   "cell_type": "code",
   "execution_count": 3,
   "metadata": {},
   "outputs": [],
   "source": [
    "folder = \"../results/validate_k/\""
   ]
  },
  {
   "cell_type": "code",
   "execution_count": 10,
   "metadata": {},
   "outputs": [],
   "source": [
    "regimes = [\"percolation_d_triplets\", \n",
    "           \"percolation_d_triplets_20\", \n",
    "           \"percolation_rf\", \n",
    "           \"shared_mutation_rf\"]\n",
    "\n",
    "topology = \"complete_binary\"\n",
    "\n",
    "for regime in regimes:\n",
    "    df = pd.DataFrame()\n",
    "    files = [file for file in os.listdir(f\"{folder}{topology}/{regime}/\")]\n",
    "    files.sort(key = lambda x: int(x.split(\".\")[0]))\n",
    "    for file in files:\n",
    "        temp_df = pd.read_csv(f\"{folder}{topology}/{regime}/\" + file, sep= \"\\t\", header = None)\n",
    "        df = pd.concat([df, temp_df])\n",
    "    df.to_csv(f\"{folder}{topology}/{regime}.txt\", sep = \"\\t\", header = False, index = False)"
   ]
  },
  {
   "cell_type": "code",
   "execution_count": 11,
   "metadata": {},
   "outputs": [],
   "source": [
    "regimes = [\"percolation_d_triplets\", \n",
    "           \"percolation_d_triplets_20\", \n",
    "           \"percolation_rf\", \n",
    "           \"shared_mutation_rf\"]\n",
    "\n",
    "topology = \"exponential_plus_c\"\n",
    "\n",
    "for regime in regimes:\n",
    "    df = pd.DataFrame()\n",
    "    files = [file for file in os.listdir(f\"{folder}{topology}/{regime}/\")]\n",
    "    files.sort(key = lambda x: int(x.split(\".\")[0]))\n",
    "    for file in files:\n",
    "        temp_df = pd.read_csv(f\"{folder}{topology}/{regime}/\" + file, sep= \"\\t\", header = None)\n",
    "        df = pd.concat([df, temp_df])\n",
    "    df.to_csv(f\"{folder}{topology}/{regime}.txt\", sep = \"\\t\", header = False, index = False)"
   ]
  },
  {
   "cell_type": "code",
   "execution_count": null,
   "metadata": {},
   "outputs": [],
   "source": []
  }
 ],
 "metadata": {
  "kernelspec": {
   "display_name": "Python 3",
   "language": "python",
   "name": "python3"
  },
  "language_info": {
   "codemirror_mode": {
    "name": "ipython",
    "version": 3
   },
   "file_extension": ".py",
   "mimetype": "text/x-python",
   "name": "python",
   "nbconvert_exporter": "python",
   "pygments_lexer": "ipython3",
   "version": "3.6.10"
  }
 },
 "nbformat": 4,
 "nbformat_minor": 2
}
