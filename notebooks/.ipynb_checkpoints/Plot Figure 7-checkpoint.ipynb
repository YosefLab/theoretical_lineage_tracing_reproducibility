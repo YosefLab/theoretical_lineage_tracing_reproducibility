{
 "cells": [
  {
   "cell_type": "code",
   "execution_count": 1,
   "metadata": {},
   "outputs": [],
   "source": [
    "import numpy as np\n",
    "import pandas as pd\n",
    "import matplotlib.pyplot as plt\n",
    "import statsmodels.api as sm\n",
    "\n",
    "import notebook_utils as utils"
   ]
  },
  {
   "cell_type": "code",
   "execution_count": 2,
   "metadata": {},
   "outputs": [],
   "source": [
    "def missing_logistic_spline(series):\n",
    "    x, y = series[2], series[3]\n",
    "    X = sm.add_constant(x)\n",
    "\n",
    "    if len(x) < 2:\n",
    "        return np.nan\n",
    "    \n",
    "    model = sm.Logit(y, X)\n",
    "    try:\n",
    "        results = model.fit(method = \"Newton\", disp = 0)\n",
    "    except sm.tools.sm_exceptions.PerfectSeparationError:\n",
    "        return np.nan\n",
    "    max_x = 50000\n",
    "    \n",
    "    vals = sm.add_constant(list(range(max_x)))\n",
    "    preds = results.predict(vals)\n",
    "    x_over = [i for i in range(len(preds)) if preds[i] >= 0.9]\n",
    "    \n",
    "    if len(x_over) == 0:\n",
    "        return np.nan\n",
    "    else:\n",
    "        final_val = min(x_over)\n",
    "        if final_val <= 8196:\n",
    "            return final_val\n",
    "        else:\n",
    "            return np.nan"
   ]
  },
  {
   "cell_type": "code",
   "execution_count": 3,
   "metadata": {},
   "outputs": [],
   "source": [
    "folder = \"../results/vary_lambda_q/\"\n",
    "\n",
    "combos = pd.read_csv(f\"../lambda_q_combinations.txt\", sep= \"\\t\", header = None)\n",
    "lambdas = np.unique(combos[0])\n",
    "qs = np.unique(1/combos[1])"
   ]
  },
  {
   "cell_type": "markdown",
   "metadata": {},
   "source": [
    "The following reads in and generates the heatmaps for the Uniform Simulation and Missing Simulation cases, respectively."
   ]
  },
  {
   "cell_type": "code",
   "execution_count": null,
   "metadata": {},
   "outputs": [],
   "source": [
    "df = pd.read_csv(f\"{folder}complete_binary/percolation_rf.txt\", sep= \"\\t\", header = None)\n",
    "df = df.drop(columns = [3]).rename(columns = {4:3})\n",
    "spline_df = df.sort_values(2).set_index([0, 1]).groupby([0, 1]).apply(utils.logistic_spline).to_frame()\n",
    "spline_df.columns = [\"value\"]\n",
    "pivot_table = pd.pivot_table(spline_df, values=\"value\", index=[0], columns=[1])\n",
    "pivot_table.index = [round(i, 3) for i in pivot_table.index]\n",
    "pivot_table.columns = [round(i, 3) for i in pivot_table.columns]\n",
    "\n",
    "df = pd.read_csv(f\"{folder}missing/percolation_rf.txt\", sep= \"\\t\", header = None)\n",
    "df = df.drop(columns = [3]).rename(columns = {4:3})\n",
    "spline_df = df.sort_values(2).set_index([0, 1]).groupby([0, 1]).apply(missing_logistic_spline).to_frame()\n",
    "spline_df.columns = [\"value\"]\n",
    "missing_pivot_table = pd.pivot_table(spline_df, values=\"value\", index=[0], columns=[1])\n",
    "missing_pivot_table.index = [round(i, 3) for i in missing_pivot_table.index]\n",
    "missing_pivot_table.columns = [round(i, 3) for i in missing_pivot_table.columns]"
   ]
  },
  {
   "cell_type": "markdown",
   "metadata": {},
   "source": [
    "The following generates the theoretical heatmaps corresponding to the bounds for the case without missing data with parameters used in the Uniform Simulation and to the bounds for the case with missing data with the parameters used in the Missing Simulation case, respectively."
   ]
  },
  {
   "cell_type": "code",
   "execution_count": 4,
   "metadata": {},
   "outputs": [
    {
     "name": "stderr",
     "output_type": "stream",
     "text": [
      "/data/yosef2/users/richardz/projects/theoretical_lineage_tracing_reproducibility/notebooks/notebook_utils.py:32: RuntimeWarning: divide by zero encountered in log\n",
      "  val = 1/(2*p) * np.log((1-q)/q) + 1\n",
      "/data/yosef2/users/richardz/projects/theoretical_lineage_tracing_reproducibility/notebooks/notebook_utils.py:57: RuntimeWarning: divide by zero encountered in log\n",
      "  val = 1/(2*p) * np.log((1-q)/q) + 1\n"
     ]
    }
   ],
   "source": [
    "theory = []\n",
    "n=256\n",
    "ell = 1/9\n",
    "for q in qs:\n",
    "    row = []\n",
    "    for p in lambdas:\n",
    "        row.append(utils.top_down_theory_bound(p,q,ell,n, 1, 0.1))\n",
    "    theory.append(row)\n",
    "    \n",
    "theory = pd.DataFrame(theory)\n",
    "theory.index = [round(i, 3) for i in qs]\n",
    "theory.columns = [round(i, 3) for i in lambdas]\n",
    "\n",
    "theory_missing = []\n",
    "n=256\n",
    "ell = 1/9\n",
    "for q in qs:\n",
    "    row = []\n",
    "    for p in lambdas:\n",
    "        row.append(utils.missing_theory_bound(p,q,ell,n, 1, 0.1, 0.1))\n",
    "    theory_missing.append(row)\n",
    "    \n",
    "theory_missing = pd.DataFrame(theory_missing)\n",
    "theory_missing.index = [round(i, 3) for i in qs]\n",
    "theory_missing.columns = [round(i, 3) for i in lambdas]"
   ]
  },
  {
   "cell_type": "markdown",
   "metadata": {},
   "source": [
    "The following shows the theoretical heatmap for the bounds for the Threshold Algorithm in the Uniform Simulation with 10% stochastic missing data."
   ]
  },
  {
   "cell_type": "code",
   "execution_count": 6,
   "metadata": {},
   "outputs": [
    {
     "name": "stderr",
     "output_type": "stream",
     "text": [
      "/home/eecs/richardyz98/.local/lib/python3.6/site-packages/ipykernel_launcher.py:10: MatplotlibDeprecationWarning: Adding an axes using the same arguments as a previous axes currently reuses the earlier instance.  In a future version, a new instance will always be created and returned.  Meanwhile, this warning can be suppressed, and the future behavior ensured, by passing a unique label to each axes instance.\n",
      "  # Remove the CWD from sys.path while we load stuff.\n"
     ]
    },
    {
     "data": {
      "image/png": "[encoded data removed]",
      "text/plain": [
       "<Figure size 432x288 with 2 Axes>"
      ]
     },
     "metadata": {
      "needs_background": "light"
     },
     "output_type": "display_data"
    }
   ],
   "source": [
    "theory_missing[5.0] = np.nan\n",
    "theory_missing.loc[1.0, 2.0] = np.nan\n",
    "\n",
    "plt.pcolor(np.log10(theory_missing), cmap = 'cool')\n",
    "plt.colorbar()\n",
    "\n",
    "plt.yticks(np.arange(0.5, len(qs), 1), [round(i, 3) for i in qs])\n",
    "plt.xticks(np.arange(0.5, len(lambdas), 1),[round(i, 3) for i in lambdas])\n",
    "\n",
    "ax = plt.axes()\n",
    "ax.set(facecolor = \"lightgray\")\n",
    "plt.savefig(\"../Figures/Fig7/missing_theory.eps\", format='eps')\n",
    "plt.show()"
   ]
  },
  {
   "cell_type": "markdown",
   "metadata": {},
   "source": [
    "The following shows the heatmap for the empirical minimum k for the Threshold Algorithm in the case of 10% stochastic missing data."
   ]
  },
  {
   "cell_type": "code",
   "execution_count": null,
   "metadata": {},
   "outputs": [],
   "source": [
    "missing_pivot_table[5.0] = np.nan\n",
    "plt.pcolor(np.log10(missing_pivot_table), cmap = 'cool')\n",
    "plt.colorbar()\n",
    "\n",
    "plt.yticks(np.arange(0.5, len(pivot_table.index), 1), pivot_table.index)\n",
    "plt.xticks(np.arange(0.5, len(pivot_table.columns), 1), pivot_table.columns)\n",
    "\n",
    "ax = plt.axes()\n",
    "ax.set(facecolor = \"lightgray\")\n",
    "plt.savefig(\"../Figures/Fig7/missing_sim.eps\", format='eps')\n",
    "plt.show()"
   ]
  },
  {
   "cell_type": "markdown",
   "metadata": {},
   "source": [
    "The following shows the bounds for the Threshold Algorithm in the Uniform Simulation with missing data divided by the bounds in the Uniform Simulation without missing data."
   ]
  },
  {
   "cell_type": "code",
   "execution_count": null,
   "metadata": {},
   "outputs": [],
   "source": [
    "theor_diff = np.log10((theory_missing / theory))\n",
    "theor_diff[5.0] = np.nan\n",
    "\n",
    "plt.pcolor(theor_diff, cmap = 'cool')\n",
    "plt.colorbar()\n",
    "\n",
    "plt.yticks(np.arange(0.5, len(pivot_table.index), 1), pivot_table.index)\n",
    "plt.xticks(np.arange(0.5, len(pivot_table.columns), 1), pivot_table.columns)\n",
    "\n",
    "ax = plt.axes()\n",
    "ax.set(facecolor = \"lightgray\")\n",
    "plt.savefig(\"../Figures/Fig7/theory_diff.eps\", format='eps')\n",
    "plt.show()"
   ]
  },
  {
   "cell_type": "markdown",
   "metadata": {},
   "source": [
    "The following shows the empirical minimum k for the Threshold Algorithm in the Uniform Simulation with missing data divided by the empirical minimum k in the Uniform Simulation without missing data."
   ]
  },
  {
   "cell_type": "code",
   "execution_count": null,
   "metadata": {},
   "outputs": [],
   "source": [
    "sim_diff = np.log10((missing_pivot_table / pivot_table))\n",
    "\n",
    "plt.pcolor(sim_diff, cmap = 'cool')\n",
    "plt.colorbar()\n",
    "\n",
    "plt.yticks(np.arange(0.5, len(pivot_table.index), 1), pivot_table.index)\n",
    "plt.xticks(np.arange(0.5, len(pivot_table.columns), 1), pivot_table.columns)\n",
    "\n",
    "ax = plt.axes()\n",
    "ax.set(facecolor = \"lightgray\")\n",
    "plt.savefig(\"../Figures/Fig7/sim_diff.eps\", format='eps')\n",
    "plt.show()"
   ]
  },
  {
   "cell_type": "code",
   "execution_count": null,
   "metadata": {},
   "outputs": [],
   "source": []
  }
 ],
 "metadata": {
  "kernelspec": {
   "display_name": "Python 3",
   "language": "python",
   "name": "python3"
  },
  "language_info": {
   "codemirror_mode": {
    "name": "ipython",
    "version": 3
   },
   "file_extension": ".py",
   "mimetype": "text/x-python",
   "name": "python",
   "nbconvert_exporter": "python",
   "pygments_lexer": "ipython3",
   "version": "3.6.10"
  }
 },
 "nbformat": 4,
 "nbformat_minor": 2
}
