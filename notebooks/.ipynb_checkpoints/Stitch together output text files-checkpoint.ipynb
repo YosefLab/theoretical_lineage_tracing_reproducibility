{
 "cells": [
  {
   "cell_type": "markdown",
   "metadata": {},
   "source": [
    "This notebook stitches together text files that are the outputs of parallelized runs in the results folder."
   ]
  },
  {
   "cell_type": "code",
   "execution_count": 4,
   "metadata": {},
   "outputs": [],
   "source": [
    "import os\n",
    "import pandas as pd"
   ]
  },
  {
   "cell_type": "code",
   "execution_count": 2,
   "metadata": {},
   "outputs": [],
   "source": [
    "folder = \"../results/vary_lambda_q/\""
   ]
  },
  {
   "cell_type": "code",
   "execution_count": 3,
   "metadata": {},
   "outputs": [],
   "source": [
    "regimes = [\"percolation_d_triplets\", \n",
    "           \"percolation_d_triplets_20\", \n",
    "           \"percolation_rf\", \n",
    "           \"shared_mutation_rf\", \n",
    "           \"percolation_triplets\",\n",
    "           \"shared_mutation_triplets\"]\n",
    "\n",
    "topology = \"complete_binary\"\n",
    "\n",
    "for regime in regimes:\n",
    "    df = pd.DataFrame()\n",
    "    for i in range(1, 109):\n",
    "        temp_df = pd.read_csv(f\"{folder}{topology}/{regime}/{i}.txt\", sep= \"\\t\", header = None)\n",
    "        df = pd.concat([df, temp_df])\n",
    "    df.to_csv(f\"{folder}{topology}/{regime}.txt\", sep = \"\\t\", header = False, index = False)"
   ]
  },
  {
   "cell_type": "code",
   "execution_count": 4,
   "metadata": {},
   "outputs": [],
   "source": [
    "regimes = [\"percolation_d_triplets\", \n",
    "           \"percolation_d_triplets_20\", \n",
    "           \"percolation_rf\", \n",
    "           \"shared_mutation_rf\", \n",
    "           \"percolation_triplets\",\n",
    "           \"shared_mutation_triplets\"]\n",
    "\n",
    "topology = \"exponential_plus_c\"\n",
    "\n",
    "for regime in regimes:\n",
    "    df = pd.DataFrame()\n",
    "    for i in range(1, 109):\n",
    "        temp_df = pd.read_csv(f\"{folder}{topology}/{regime}/{i}.txt\", sep= \"\\t\", header = None)\n",
    "        df = pd.concat([df, temp_df])\n",
    "    df.to_csv(f\"{folder}{topology}/{regime}.txt\", sep = \"\\t\", header = False, index = False)"
   ]
  },
  {
   "cell_type": "code",
   "execution_count": 7,
   "metadata": {},
   "outputs": [],
   "source": [
    "regimes = [\"percolation_rf\", \n",
    "           \"percolation_triplets\"]\n",
    "\n",
    "topology = \"missing\"\n",
    "\n",
    "for regime in regimes:\n",
    "    df = pd.DataFrame()\n",
    "    for i in range(1, 97):\n",
    "        temp_df = pd.read_csv(f\"{folder}{topology}/{regime}/{i}.txt\", sep= \"\\t\", header = None)\n",
    "        df = pd.concat([df, temp_df])\n",
    "    df.to_csv(f\"{folder}{topology}/{regime}.txt\", sep = \"\\t\", header = False, index = False)"
   ]
  },
  {
   "cell_type": "code",
   "execution_count": 3,
   "metadata": {},
   "outputs": [],
   "source": [
    "folder = \"../results/validate_k/\""
   ]
  },
  {
   "cell_type": "code",
   "execution_count": 9,
   "metadata": {},
   "outputs": [
    {
     "data": {
      "text/plain": [
       "['1.txt',\n",
       " '2.txt',\n",
       " '3.txt',\n",
       " '4.txt',\n",
       " '5.txt',\n",
       " '6.txt',\n",
       " '7.txt',\n",
       " '8.txt',\n",
       " '9.txt',\n",
       " '10.txt',\n",
       " '11.txt',\n",
       " '12.txt',\n",
       " '13.txt',\n",
       " '14.txt',\n",
       " '15.txt',\n",
       " '16.txt',\n",
       " '17.txt',\n",
       " '18.txt',\n",
       " '19.txt',\n",
       " '20.txt',\n",
       " '21.txt',\n",
       " '22.txt',\n",
       " '23.txt',\n",
       " '24.txt',\n",
       " '25.txt',\n",
       " '26.txt',\n",
       " '27.txt',\n",
       " '28.txt',\n",
       " '29.txt',\n",
       " '30.txt',\n",
       " '31.txt',\n",
       " '32.txt',\n",
       " '33.txt',\n",
       " '34.txt',\n",
       " '35.txt',\n",
       " '36.txt',\n",
       " '37.txt',\n",
       " '38.txt',\n",
       " '39.txt',\n",
       " '40.txt',\n",
       " '41.txt',\n",
       " '42.txt',\n",
       " '43.txt',\n",
       " '44.txt',\n",
       " '45.txt',\n",
       " '46.txt',\n",
       " '47.txt',\n",
       " '48.txt',\n",
       " '49.txt',\n",
       " '50.txt',\n",
       " '51.txt',\n",
       " '52.txt',\n",
       " '53.txt',\n",
       " '54.txt',\n",
       " '55.txt',\n",
       " '56.txt',\n",
       " '57.txt',\n",
       " '58.txt',\n",
       " '59.txt',\n",
       " '60.txt',\n",
       " '61.txt',\n",
       " '62.txt',\n",
       " '63.txt',\n",
       " '64.txt',\n",
       " '65.txt',\n",
       " '66.txt',\n",
       " '67.txt',\n",
       " '68.txt',\n",
       " '69.txt',\n",
       " '70.txt',\n",
       " '71.txt',\n",
       " '72.txt',\n",
       " '73.txt',\n",
       " '74.txt',\n",
       " '75.txt',\n",
       " '76.txt',\n",
       " '77.txt',\n",
       " '78.txt',\n",
       " '79.txt',\n",
       " '80.txt',\n",
       " '81.txt',\n",
       " '82.txt',\n",
       " '83.txt',\n",
       " '84.txt',\n",
       " '85.txt',\n",
       " '86.txt',\n",
       " '87.txt',\n",
       " '88.txt',\n",
       " '89.txt',\n",
       " '90.txt',\n",
       " '91.txt',\n",
       " '92.txt',\n",
       " '93.txt',\n",
       " '94.txt',\n",
       " '95.txt',\n",
       " '96.txt',\n",
       " '97.txt',\n",
       " '98.txt',\n",
       " '99.txt',\n",
       " '100.txt',\n",
       " '101.txt',\n",
       " '102.txt',\n",
       " '103.txt',\n",
       " '104.txt',\n",
       " '105.txt',\n",
       " '106.txt',\n",
       " '107.txt']"
      ]
     },
     "execution_count": 9,
     "metadata": {},
     "output_type": "execute_result"
    }
   ],
   "source": [
    "regimes = [\"percolation_d_triplets\", \n",
    "           \"percolation_d_triplets_20\", \n",
    "           \"percolation_rf\", \n",
    "           \"shared_mutation_rf\"]\n",
    "\n",
    "topology = \"complete_binary\"\n",
    "\n",
    "for regime in regimes:\n",
    "    df = pd.DataFrame()\n",
    "    files = [file for file in os.listdir(f\"{folder}{topology}/{regime}/\")]\n",
    "    files.sort(key = lambda x: int(x.split(\".\")[0]))\n",
    "    for file in files:\n",
    "        temp_df = pd.read_csv(f\"{folder}{topology}/{regime}/\" + file, sep= \"\\t\", header = None)\n",
    "        df = pd.concat([df, temp_df])\n",
    "    df.to_csv(f\"{folder}{topology}/{regime}.txt\", sep = \"\\t\", header = False, index = False)"
   ]
  },
  {
   "cell_type": "code",
   "execution_count": null,
   "metadata": {},
   "outputs": [],
   "source": [
    "regimes = [\"percolation_d_triplets\", \n",
    "           \"percolation_d_triplets_20\", \n",
    "           \"percolation_rf\", \n",
    "           \"shared_mutation_rf\"]\n",
    "\n",
    "topology = \"exponential_plus_c\"\n",
    "\n",
    "for regime in regimes:\n",
    "    df = pd.DataFrame()\n",
    "    for i in range(1, 109):\n",
    "        temp_df = pd.read_csv(f\"{folder}{topology}/{regime}/{i}.txt\", sep= \"\\t\", header = None)\n",
    "        df = pd.concat([df, temp_df])\n",
    "    df.to_csv(f\"{folder}{topology}/{regime}.txt\", sep = \"\\t\", header = False, index = False)"
   ]
  }
 ],
 "metadata": {
  "kernelspec": {
   "display_name": "Python 3",
   "language": "python",
   "name": "python3"
  },
  "language_info": {
   "codemirror_mode": {
    "name": "ipython",
    "version": 3
   },
   "file_extension": ".py",
   "mimetype": "text/x-python",
   "name": "python",
   "nbconvert_exporter": "python",
   "pygments_lexer": "ipython3",
   "version": "3.6.10"
  }
 },
 "nbformat": 4,
 "nbformat_minor": 2
}
