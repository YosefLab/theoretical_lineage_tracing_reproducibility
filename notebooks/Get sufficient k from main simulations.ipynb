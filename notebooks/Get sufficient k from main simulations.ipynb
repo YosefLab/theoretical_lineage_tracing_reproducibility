{
 "cells": [
  {
   "cell_type": "markdown",
   "metadata": {},
   "source": [
    "This notebook builds text files containing the k found to be sufficient in the main simulations in figures 2 and 3. These ks are validated via simulation, the results of which are shown in figure 5."
   ]
  },
  {
   "cell_type": "code",
   "execution_count": 1,
   "metadata": {},
   "outputs": [],
   "source": [
    "import pandas as pd\n",
    "\n",
    "import notebook_utils as utils"
   ]
  },
  {
   "cell_type": "markdown",
   "metadata": {},
   "source": [
    "Below, we build a file for each combination of metric, algorithm, and simulation type."
   ]
  },
  {
   "cell_type": "code",
   "execution_count": 2,
   "metadata": {},
   "outputs": [
    {
     "name": "stdout",
     "output_type": "stream",
     "text": [
      "complete_binary_percolation_rf\n",
      "exponential_plus_c_percolation_rf\n",
      "complete_binary_shared_mutation_rf\n"
     ]
    },
    {
     "name": "stderr",
     "output_type": "stream",
     "text": [
      "/data/yosef2/users/richardz/anaconda2/envs/python3_6/lib/python3.6/site-packages/statsmodels/discrete/discrete_model.py:1799: RuntimeWarning: overflow encountered in exp\n",
      "  return 1/(1+np.exp(-X))\n"
     ]
    },
    {
     "name": "stdout",
     "output_type": "stream",
     "text": [
      "exponential_plus_c_shared_mutation_rf\n",
      "complete_binary_percolation_d_triplets\n",
      "exponential_plus_c_percolation_d_triplets\n",
      "complete_binary_percolation_d_triplets_20\n",
      "exponential_plus_c_percolation_d_triplets_20\n"
     ]
    }
   ],
   "source": [
    "work_folder = \"../\"\n",
    "metrics = [\"rf\", \"d_triplets\", \"d_triplets_20\"]\n",
    "algs = [\"percolation\", \"shared_mutation\"]\n",
    "sims = [\"complete_binary\", \"exponential_plus_c\"]\n",
    "\n",
    "for metric in metrics:\n",
    "    for alg in algs:\n",
    "        if \"triplet\" in metric and alg == \"shared_mutation\":\n",
    "            continue\n",
    "        for sim in sims:\n",
    "            print(f\"{sim}_{alg}_{metric}\")\n",
    "            df = pd.read_csv(f\"{work_folder}results/vary_lambda_q/{sim}/{alg}_{metric}.txt\", sep= \"\\t\", header = None)\n",
    "            df = df.drop(columns = [3]).rename(columns = {4:3})\n",
    "            spline_df = df.sort_values(2).set_index([0, 1]).groupby([0, 1]).apply(utils.logistic_spline).to_frame()\n",
    "            spline_df.to_csv(f\"{work_folder}splined_sufficient_k/{sim}/{alg}_{metric}.txt\", sep = \"\\t\", header = False, na_rep = 'NaN')"
   ]
  },
  {
   "cell_type": "code",
   "execution_count": null,
   "metadata": {},
   "outputs": [],
   "source": []
  }
 ],
 "metadata": {
  "kernelspec": {
   "display_name": "Python 3",
   "language": "python",
   "name": "python3"
  },
  "language_info": {
   "codemirror_mode": {
    "name": "ipython",
    "version": 3
   },
   "file_extension": ".py",
   "mimetype": "text/x-python",
   "name": "python",
   "nbconvert_exporter": "python",
   "pygments_lexer": "ipython3",
   "version": "3.6.10"
  }
 },
 "nbformat": 4,
 "nbformat_minor": 2
}
